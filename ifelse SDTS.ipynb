{
  "nbformat": 4,
  "nbformat_minor": 0,
  "metadata": {
    "colab": {
      "provenance": []
    },
    "kernelspec": {
      "name": "python3",
      "display_name": "Python 3"
    },
    "language_info": {
      "name": "python"
    }
  },
  "cells": [
    {
      "cell_type": "code",
      "execution_count": 2,
      "metadata": {
        "colab": {
          "base_uri": "https://localhost:8080/"
        },
        "id": "V-vAHH_jy2lC",
        "outputId": "01712714-1a94-4fd9-d2cd-d5f3035852bb"
      },
      "outputs": [
        {
          "output_type": "stream",
          "name": "stdout",
          "text": [
            "The Statement is:\n",
            "if(a<5)\n",
            "{\n",
            "\n",
            "c=b+d\n",
            "d=i+j\n",
            "} else\n",
            "{\n",
            "d=a+b \n",
            "k=x+y\n",
            "}\n",
            "\n",
            "The Three Address Code Generated is:\n",
            "+-------+------------------+\n",
            "| Index |       Code       |\n",
            "+-------+------------------+\n",
            "|   1   | if (a<5) goto(3) |\n",
            "|   2   |      goto 8      |\n",
            "|   3   |    T1 = b + d    |\n",
            "|   4   |      c = T1      |\n",
            "|   5   |    T2 = i + j    |\n",
            "|   6   |      d = T2      |\n",
            "|   7   |     goto 12      |\n",
            "|   8   |    T3 = a + b    |\n",
            "|   9   |      d = T3      |\n",
            "|   10  |    T4 = x + y    |\n",
            "|   11  |      k = T4      |\n",
            "|   12  |       END        |\n",
            "+-------+------------------+\n"
          ]
        }
      ],
      "source": [
        "from prettytable import PrettyTable\n",
        "\n",
        "def if_loop(cleaned_code):\n",
        "    final_code = []\n",
        "    if_idx = None\n",
        "    temps = 1\n",
        "    ifs = None\n",
        "    elses = None\n",
        "\n",
        "    for i in range(len(cleaned_code)):\n",
        "        codeline = cleaned_code[i]\n",
        "\n",
        "        if 'if' in codeline:\n",
        "            if_idx = i + 1\n",
        "            start_idx = codeline.index('(')\n",
        "            end_idx = codeline.index(')')\n",
        "            bool_condn = ''.join(codeline[start_idx:end_idx + 1])\n",
        "            final_code.append('if {} goto({})'.format(bool_condn, if_idx + 2))\n",
        "            final_code.append('goto')\n",
        "            ifs = i + 1\n",
        "            if_idx = i + 2\n",
        "\n",
        "        elif '{' in codeline:\n",
        "            continue\n",
        "\n",
        "        elif 'else' in codeline:\n",
        "            elses = if_idx\n",
        "            final_code.append('goto')\n",
        "\n",
        "        else:\n",
        "            for j in range(0, len(codeline)):\n",
        "                if (codeline[j] == '+' or codeline[j] == '-'):\n",
        "                    final_code.append('T{} = {} {} {}'.format(temps, codeline[j - 1], codeline[j], codeline[j + 1]))\n",
        "                    final_code.append('{} = T{}'.format(codeline[j - 3], temps))\n",
        "                    temps += 1\n",
        "                    if_idx += 2\n",
        "                    break\n",
        "\n",
        "                elif codeline[j] == '}':\n",
        "                    continue\n",
        "\n",
        "                elif j == len(codeline) - 1:\n",
        "                    final_code.append(codeline)\n",
        "                    if_idx += 1\n",
        "\n",
        "    final_code[ifs] = final_code[ifs] + \" \" + str(elses + 2)\n",
        "    final_code[elses] = final_code[elses] + \" \" + str(if_idx + 2)\n",
        "\n",
        "    return final_code\n",
        "\n",
        "# Load code from file\n",
        "with open('/content/mycode.txt') as f:\n",
        "    code = f.readlines()\n",
        "\n",
        "print('The Statement is:')\n",
        "print(''.join(code))\n",
        "\n",
        "cleaned_code = []\n",
        "for i in range(len(code)):\n",
        "    if code[i] != '\\n':\n",
        "        if code[i][-1] == '\\n':\n",
        "            cleaned_code.append(code[i][:-1].strip())\n",
        "        else:\n",
        "            cleaned_code.append(code[i].strip())\n",
        "\n",
        "final_code = if_loop(cleaned_code)\n",
        "final_code.append('END')\n",
        "\n",
        "print('\\nThe Three Address Code Generated is:')\n",
        "x1 = PrettyTable()\n",
        "x1.field_names = ['Index', 'Code']\n",
        "for i in range(len(final_code)):\n",
        "    x1.add_row([i + 1, final_code[i]])\n",
        "\n",
        "print(x1)\n",
        "\n",
        "\n"
      ]
    },
    {
      "cell_type": "code",
      "source": [],
      "metadata": {
        "id": "5BAyfZZ8zJcG"
      },
      "execution_count": null,
      "outputs": []
    }
  ]
}